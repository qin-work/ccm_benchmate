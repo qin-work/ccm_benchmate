{
 "cells": [
  {
   "metadata": {},
   "cell_type": "markdown",
   "source": [
    "# Genome module\n",
    "\n",
    "This module is there to represent and store genomic annotations, sequences etc. If you have ever used R's `GenomicFeatures` and `TxDb` packages you will feel right at home. This is basically a python replication of some of the functionalities.\n",
    "\n",
    "In this notebook I will also introduce the `ranges` submodule in greater detail as it is used by the `Genome` instance to query the database.\n",
    "\n",
    "## Database basics\n",
    "\n",
    "The `Genome` class instance stores all the annotations in a SQL database, this can be any database of your choosing. Ideally it will be the same one as your `KnowledgeBase` but you can definitely use this as a standalone feature if you want and store everything in a `SQLite` database (which is what we are going to do in this notebook).\n",
    "\n",
    "The database connection is handled by `SQLAlchemy` in the backend. You do not need to be an expert at using SQL as a lot of these queries are handled by the package for you.\n",
    "\n",
    "I will be using *Saccharomyces cerevisiae* genome for this example as it is small. I have manually downloaded the genome fasta and gtf file from ensembl beforehand and they are in the same folder as this notebook.\n",
    "\n",
    "On my computer the creation of the database takes about a minute with the yeast genome. It will take longer with a larger genome like mouse or human but you have to this once per genome."
   ],
   "id": "2bccce0044abb547"
  },
  {
   "metadata": {
    "ExecuteTime": {
     "end_time": "2025-06-24T17:04:17.926922Z",
     "start_time": "2025-06-24T17:04:17.573796Z"
    }
   },
   "cell_type": "code",
   "source": [
    "from ccm_benchmate.genome.genome import Genome\n",
    "from ccm_benchmate.ranges.genomicranges import GenomicRange\n",
    "\n",
    "from sqlalchemy import create_engine"
   ],
   "id": "325a8a6ae7b2a0cc",
   "outputs": [],
   "execution_count": 1
  },
  {
   "metadata": {
    "ExecuteTime": {
     "end_time": "2025-06-24T17:04:18.004082Z",
     "start_time": "2025-06-24T17:04:17.988357Z"
    }
   },
   "cell_type": "code",
   "source": [
    "genome_db=create_engine('sqlite:///genome.sqlite')\n",
    "\n",
    "yeast=Genome(genome_fasta=\"Saccharomyces_cerevisiae.R64-1-1.dna.toplevel.fa\",\n",
    "             gtf=\"Saccharomyces_cerevisiae.R64-1-1.114.gtf\",\n",
    "             db_conn=genome_db, name=\"yeast\", description=\"Yeast\")"
   ],
   "id": "4fcc1f090c5e263d",
   "outputs": [
    {
     "name": "stdout",
     "output_type": "stream",
     "text": [
      "Found an existing genome with yeast, just setting things up, if this is an error re-initiate the class with a different name\n"
     ]
    }
   ],
   "execution_count": 2
  },
  {
   "metadata": {},
   "cell_type": "markdown",
   "source": [
    "Depending on the size of the genome and the annotation file database creation can take a while. The database will be created in the same folder as this notebook. You can also specify a different folder if you want to while you are generating the sqlite engine. This flexibility allows you to create the database wherever you want. It can be on the local machine or it can be a database server on the network. You can use any database that SQLAlchemy supports, such as MySQL, PostgreSQL, SQLite, etc.\n",
    "\n",
    "The database schema looks like this:\n",
    "\n",
    "![](../assets/genome_database.png)"
   ],
   "id": "698076405b0d3e22"
  },
  {
   "metadata": {},
   "cell_type": "markdown",
   "source": "You can query the database for genes, transcripts, exons, coding sequences, utrs and introns. You can also extract sequences based on specific ranges provided that you have specified a fasta file. Additionally, you can extract sequences from the transcriptome or the proteome, but you will need to provied speicicic genomic ranges for that.",
   "id": "5509be505811e75f"
  },
  {
   "metadata": {
    "ExecuteTime": {
     "end_time": "2025-06-24T16:48:58.374426Z",
     "start_time": "2025-06-24T16:48:58.339269Z"
    }
   },
   "cell_type": "code",
   "source": [
    "# get all the genes\n",
    "all_genes=yeast.genes()"
   ],
   "id": "fee02fc5a8e2e3a3",
   "outputs": [],
   "execution_count": 3
  },
  {
   "metadata": {
    "ExecuteTime": {
     "end_time": "2025-06-24T16:48:58.487646Z",
     "start_time": "2025-06-24T16:48:58.484051Z"
    }
   },
   "cell_type": "code",
   "source": "type(all_genes)",
   "id": "324eb9014dee0e76",
   "outputs": [
    {
     "data": {
      "text/plain": [
       "ccm_benchmate.ranges.genomicranges.GenomicRangesDict"
      ]
     },
     "execution_count": 4,
     "metadata": {},
     "output_type": "execute_result"
    }
   ],
   "execution_count": 4
  },
  {
   "metadata": {},
   "cell_type": "markdown",
   "source": "I think this is a good time to delve a little bit deeper into `GenomicRanges`, `GenomicRangesList` and `GenomicRangesDict`. As we can see we have `GenomicRangesDict` instance here where all the keys are gene ids and the values are `GenomicRanges` instances. This is only true for the genes query. If you have queried transcripts the genomicrangesdict will have the transcripts grouped by genes and all other will have them grouped by transcripts.",
   "id": "227b6cc73bee7902"
  },
  {
   "metadata": {
    "ExecuteTime": {
     "end_time": "2025-06-24T16:48:58.800537Z",
     "start_time": "2025-06-24T16:48:58.798292Z"
    }
   },
   "cell_type": "code",
   "source": "ids=list(all_genes.keys())[0:10]",
   "id": "2393d6c49836efbf",
   "outputs": [],
   "execution_count": 5
  },
  {
   "metadata": {
    "ExecuteTime": {
     "end_time": "2025-06-24T16:48:58.936101Z",
     "start_time": "2025-06-24T16:48:58.933133Z"
    }
   },
   "cell_type": "code",
   "source": "ids",
   "id": "466f6cb3bf937389",
   "outputs": [
    {
     "data": {
      "text/plain": [
       "['YDL246C',\n",
       " 'YDL243C',\n",
       " 'YDR387C',\n",
       " 'YDL094C',\n",
       " 'YDR438W',\n",
       " 'YDR523C',\n",
       " 'YDR542W',\n",
       " 'YDR492W',\n",
       " 'YDR018C',\n",
       " 'YDL189W']"
      ]
     },
     "execution_count": 6,
     "metadata": {},
     "output_type": "execute_result"
    }
   ],
   "execution_count": 6
  },
  {
   "metadata": {
    "ExecuteTime": {
     "end_time": "2025-06-24T16:48:59.093394Z",
     "start_time": "2025-06-24T16:48:59.091065Z"
    }
   },
   "cell_type": "code",
   "source": "all_genes[ids[0]]",
   "id": "dc2e9b5a376afba7",
   "outputs": [
    {
     "data": {
      "text/plain": [
       "GenomicRange(IV:8683-9756(-))"
      ]
     },
     "execution_count": 7,
     "metadata": {},
     "output_type": "execute_result"
    }
   ],
   "execution_count": 7
  },
  {
   "metadata": {},
   "cell_type": "markdown",
   "source": [
    "I can do the same with all transcripts, exons, cdss, utrs and introns. No need to delve more into that.\n",
    "but there is another interesting thing that these instances have and that's the annotation feature."
   ],
   "id": "8ae845d5c79fbc61"
  },
  {
   "metadata": {
    "ExecuteTime": {
     "end_time": "2025-06-24T16:48:59.362237Z",
     "start_time": "2025-06-24T16:48:59.358740Z"
    }
   },
   "cell_type": "code",
   "source": [
    "mygene=all_genes[ids[0]]\n",
    "mygene.annotation"
   ],
   "id": "feed6fb082fd9495",
   "outputs": [
    {
     "data": {
      "text/plain": [
       "{'gene_id': 'YDL246C',\n",
       " 'gene_name': 'SOR2',\n",
       " 'gene_source': 'sgd',\n",
       " 'gene_biotype': 'protein_coding',\n",
       " 'db_id': 1}"
      ]
     },
     "execution_count": 8,
     "metadata": {},
     "output_type": "execute_result"
    }
   ],
   "execution_count": 8
  },
  {
   "metadata": {},
   "cell_type": "markdown",
   "source": [
    "Initially these come from the gtf file, so genes and transcripts have them but not others. That does not mean that you cannot add them (more on that later).\n",
    "\n",
    "There is a strict hiearchical structure to the database. Genome > Chrom > Gene > Transcript > Exon > (CDS, 3' UTR, 5' UTR).\n",
    "\n",
    "So if you want to get the 3' utr you need to get the gene, then the transcript. You can search introns, exons, cdss and utrs by transcript id and you can search trancripts by gene id.\n",
    "\n",
    "There is another thing in there that you will need. The database is desgined to store multiple genomes, each different fasta/gtf combination is stored as a different genome. So you will need the database unique id to query for things. Well, I lied, I'm working on the latter part."
   ],
   "id": "a73842581ae53481"
  },
  {
   "metadata": {
    "ExecuteTime": {
     "end_time": "2025-06-24T16:48:59.655363Z",
     "start_time": "2025-06-24T16:48:59.651811Z"
    }
   },
   "cell_type": "code",
   "source": "transcript=yeast.transcripts(gene_ids=mygene.annotation[\"db_id\"])",
   "id": "66ab131f0456d4e",
   "outputs": [],
   "execution_count": 9
  },
  {
   "metadata": {
    "ExecuteTime": {
     "end_time": "2025-06-24T16:48:59.791088Z",
     "start_time": "2025-06-24T16:48:59.788526Z"
    }
   },
   "cell_type": "code",
   "source": "len(transcript)",
   "id": "dcba0e17cb62d6dc",
   "outputs": [
    {
     "data": {
      "text/plain": [
       "1"
      ]
     },
     "execution_count": 10,
     "metadata": {},
     "output_type": "execute_result"
    }
   ],
   "execution_count": 10
  },
  {
   "metadata": {
    "ExecuteTime": {
     "end_time": "2025-06-24T16:48:59.924549Z",
     "start_time": "2025-06-24T16:48:59.922098Z"
    }
   },
   "cell_type": "code",
   "source": "transcript",
   "id": "f6a334b0092bdb38",
   "outputs": [
    {
     "data": {
      "text/plain": [
       "GenomicRangesDict(dict_items([('YDL246C', GenomicRangesList([GenomicRange(IV:8683-9756(-))]))]))"
      ]
     },
     "execution_count": 11,
     "metadata": {},
     "output_type": "execute_result"
    }
   ],
   "execution_count": 11
  },
  {
   "metadata": {
    "ExecuteTime": {
     "end_time": "2025-06-24T16:49:00.059476Z",
     "start_time": "2025-06-24T16:49:00.056840Z"
    }
   },
   "cell_type": "code",
   "source": "transcript.keys()",
   "id": "7848a2b33a938df4",
   "outputs": [
    {
     "data": {
      "text/plain": [
       "dict_keys(['YDL246C'])"
      ]
     },
     "execution_count": 12,
     "metadata": {},
     "output_type": "execute_result"
    }
   ],
   "execution_count": 12
  },
  {
   "metadata": {
    "ExecuteTime": {
     "end_time": "2025-06-24T16:49:00.219154Z",
     "start_time": "2025-06-24T16:49:00.216212Z"
    }
   },
   "cell_type": "code",
   "source": "transcript['YDL246C'][0]",
   "id": "3cdf0cc6d859a938",
   "outputs": [
    {
     "data": {
      "text/plain": [
       "GenomicRange(IV:8683-9756(-))"
      ]
     },
     "execution_count": 13,
     "metadata": {},
     "output_type": "execute_result"
    }
   ],
   "execution_count": 13
  },
  {
   "metadata": {},
   "cell_type": "markdown",
   "source": "But wait, there is more. If you look at the annotations feature of the genomic ranges you will see that we also have the database ids in there.",
   "id": "7699add36545e771"
  },
  {
   "metadata": {
    "ExecuteTime": {
     "end_time": "2025-06-24T16:49:00.487665Z",
     "start_time": "2025-06-24T16:49:00.484356Z"
    }
   },
   "cell_type": "code",
   "source": "transcript['YDL246C'][0].annotation",
   "id": "56ef6fb343a43ace",
   "outputs": [
    {
     "data": {
      "text/plain": [
       "{'gene_id': 'YDL246C',\n",
       " 'transcript_id': 'YDL246C_mRNA',\n",
       " 'gene_name': 'SOR2',\n",
       " 'gene_source': 'sgd',\n",
       " 'gene_biotype': 'protein_coding',\n",
       " 'transcript_name': 'SOR2',\n",
       " 'transcript_source': 'sgd',\n",
       " 'transcript_biotype': 'protein_coding',\n",
       " 'tag': 'Ensembl_canonical',\n",
       " 'db_id': 1}"
      ]
     },
     "execution_count": 14,
     "metadata": {},
     "output_type": "execute_result"
    }
   ],
   "execution_count": 14
  },
  {
   "metadata": {},
   "cell_type": "markdown",
   "source": "That means I can pass arbitrary ids to any of the queries and it will return that specific feature with that id. This is useful if you want to get a specific feature without having to query the whole database.",
   "id": "de03867896355797"
  },
  {
   "metadata": {
    "ExecuteTime": {
     "end_time": "2025-06-24T16:49:00.756921Z",
     "start_time": "2025-06-24T16:49:00.753175Z"
    }
   },
   "cell_type": "code",
   "source": [
    "ids=[1,3,4,5,6,78]\n",
    "exons=yeast.exons(ids=ids)"
   ],
   "id": "bf6ea7f2619c7791",
   "outputs": [],
   "execution_count": 15
  },
  {
   "metadata": {
    "ExecuteTime": {
     "end_time": "2025-06-24T16:49:00.916872Z",
     "start_time": "2025-06-24T16:49:00.913602Z"
    }
   },
   "cell_type": "code",
   "source": "exons",
   "id": "e4e9277fd5036048",
   "outputs": [
    {
     "data": {
      "text/plain": [
       "GenomicRangesDict(dict_items([('YDL246C_mRNA', GenomicRangesList([GenomicRange(IV:8683-9756(-))])), ('YDR387C_mRNA', GenomicRangesList([GenomicRange(IV:1248154-1249821(-))])), ('YDL094C_mRNA', GenomicRangesList([GenomicRange(IV:289572-290081(-))])), ('YDR438W_mRNA', GenomicRangesList([GenomicRange(IV:1338274-1339386(+))])), ('YDR523C_mRNA', GenomicRangesList([GenomicRange(IV:1485566-1487038(-))])), ('YDR425W_mRNA', GenomicRangesList([GenomicRange(IV:1320064-1321941(+))]))]))"
      ]
     },
     "execution_count": 16,
     "metadata": {},
     "output_type": "execute_result"
    }
   ],
   "execution_count": 16
  },
  {
   "metadata": {},
   "cell_type": "markdown",
   "source": "For transcripts you can pass gene ids, for all other features you can pass transcript ids and it will return the features that you asked for those transcripts.",
   "id": "d6f019e0d3edff83"
  },
  {
   "metadata": {
    "ExecuteTime": {
     "end_time": "2025-06-24T16:49:01.456498Z",
     "start_time": "2025-06-24T16:49:01.449754Z"
    }
   },
   "cell_type": "code",
   "source": "exons=yeast.exons(transcript_ids=ids)",
   "id": "6884032df1515cf5",
   "outputs": [],
   "execution_count": 17
  },
  {
   "metadata": {
    "ExecuteTime": {
     "end_time": "2025-06-24T16:49:01.837673Z",
     "start_time": "2025-06-24T16:49:01.835320Z"
    }
   },
   "cell_type": "code",
   "source": "exons",
   "id": "4679539681b08eff",
   "outputs": [
    {
     "data": {
      "text/plain": [
       "GenomicRangesDict(dict_items([('YDL246C_mRNA', GenomicRangesList([GenomicRange(IV:8683-9756(-))])), ('YDR387C_mRNA', GenomicRangesList([GenomicRange(IV:1248154-1249821(-))])), ('YDL094C_mRNA', GenomicRangesList([GenomicRange(IV:289572-290081(-))])), ('YDR438W_mRNA', GenomicRangesList([GenomicRange(IV:1338274-1339386(+))])), ('YDR523C_mRNA', GenomicRangesList([GenomicRange(IV:1485566-1487038(-))])), ('snR13_snoRNA', GenomicRangesList([GenomicRange(IV:1402919-1403042(+))]))]))"
      ]
     },
     "execution_count": 18,
     "metadata": {},
     "output_type": "execute_result"
    }
   ],
   "execution_count": 18
  },
  {
   "metadata": {},
   "cell_type": "markdown",
   "source": "last but not least you can get all the features that are within a specific genomic range. All you have to do is to create a `GenomicRange` instance and pass it to the query. This will return all the features that overlap with that range.",
   "id": "c87b456876db34cf"
  },
  {
   "metadata": {
    "ExecuteTime": {
     "end_time": "2025-06-24T16:49:02.533293Z",
     "start_time": "2025-06-24T16:49:02.530924Z"
    }
   },
   "cell_type": "code",
   "source": "myrange=GenomicRange(\"I\", 1000, 2000000, \"+\")",
   "id": "2146fbbdd552e465",
   "outputs": [],
   "execution_count": 19
  },
  {
   "metadata": {
    "ExecuteTime": {
     "end_time": "2025-06-24T16:49:02.826759Z",
     "start_time": "2025-06-24T16:49:02.823272Z"
    }
   },
   "cell_type": "code",
   "source": "introns=yeast.introns(range=myrange)",
   "id": "b657dfc6c0ae6bbe",
   "outputs": [],
   "execution_count": 20
  },
  {
   "metadata": {
    "ExecuteTime": {
     "end_time": "2025-06-24T16:49:03.051940Z",
     "start_time": "2025-06-24T16:49:03.048854Z"
    }
   },
   "cell_type": "code",
   "source": "introns",
   "id": "6c177390370a54ab",
   "outputs": [
    {
     "data": {
      "text/plain": [
       "GenomicRangesDict(dict_items([('YAL003W_mRNA', GenomicRangesList([GenomicRange(I:142254-142619(+))])), ('tL(CAA)A_tRNA', GenomicRangesList([GenomicRange(I:181179-181210(+))])), ('tP(UGG)A_tRNA', GenomicRangesList([GenomicRange(I:139188-139218(+))])), ('YAL030W_mRNA', GenomicRangesList([GenomicRange(I:87388-87500(+))]))]))"
      ]
     },
     "execution_count": 21,
     "metadata": {},
     "output_type": "execute_result"
    }
   ],
   "execution_count": 21
  },
  {
   "metadata": {},
   "cell_type": "markdown",
   "source": "And here is how you extract sequences:",
   "id": "49cd9618012ffa08"
  },
  {
   "metadata": {
    "ExecuteTime": {
     "end_time": "2025-06-24T16:49:17.034710Z",
     "start_time": "2025-06-24T16:49:17.030958Z"
    }
   },
   "cell_type": "code",
   "source": [
    "myrange=GenomicRange(\"I\", 100, 200, \"+\")\n",
    "yeast.get_sequence(myrange)"
   ],
   "id": "d346102bc4b54a17",
   "outputs": [
    {
     "data": {
      "text/plain": [
       "'GCCAACCTGTCTCTCAACTTACCCTCCATTACCCTGCCTCCACTCGTTACCCTGTCCCATTCAACCATACCACTCCGAACCACCATCCATCCCTCTACTT'"
      ]
     },
     "execution_count": 23,
     "metadata": {},
     "output_type": "execute_result"
    }
   ],
   "execution_count": 23
  },
  {
   "metadata": {
    "ExecuteTime": {
     "end_time": "2025-06-24T16:49:38.044263Z",
     "start_time": "2025-06-24T16:49:38.041137Z"
    }
   },
   "cell_type": "code",
   "source": [
    "#it's strand specific\n",
    "myrange=GenomicRange(\"I\", 100, 200, \"-\")\n",
    "yeast.get_sequence(myrange)"
   ],
   "id": "319374178fbbd6a4",
   "outputs": [
    {
     "data": {
      "text/plain": [
       "'AAGTAGAGGGATGGATGGTGGTTCGGAGTGGTATGGTTGAATGGGACAGGGTAACGAGTGGAGGCAGGGTAATGGAGGGTAAGTTGAGAGACAGGTTGGC'"
      ]
     },
     "execution_count": 24,
     "metadata": {},
     "output_type": "execute_result"
    }
   ],
   "execution_count": 24
  },
  {
   "metadata": {},
   "cell_type": "markdown",
   "source": [
    "# A bit deeper into Ranges and GenomicRanges\n",
    "\n",
    "under the ranges submodule we have a few classes that are used to represent genomic ranges and their annotations. The main class is `GenomicRange` which represents a single genomic range. It has the following attributes:\n",
    "\n",
    "- `chrom`: the chromosome name\n",
    "- `start`: the start position of the range\n",
    "- `end`: the end position of the range\n",
    "- `strand`: the strand of the range, either `+` or `-` or `*` for both strands\n",
    "\n",
    "These are inspired by R's Ranges and GenomicRanges packages. The `GenomicRange` class has a few methods that allow you to manipulate the ranges, such as `shift`, `resize`, `intersect`, `union`, etc. You can also create a list of ranges using the `GenomicRangesList` class which is a simple list of `GenomicRange` instances.\n",
    "\n",
    "Additionally, we have the `GenomicRangesDict` class which is a dictionary of `GenomicRange` or `GenomicRangesList` instances. This is used to store ranges grouped by some feature, such as genes or transcripts.\n",
    "\n",
    "There are numerous methods that allow you to perform operations. For `GenomicRange` you can do things like: `shift`, `extend`, find whether it overlaps with another ranges, calculate distance between ranges using `distance`.\n",
    "\n",
    "If you are using `GenomicRangesList` you can do things like you have list like methods like `append`, `extend`, `insert`, `remove`, `pop`. The main difference between a regular list is that you can only add another instance of a `GenomicRange` to it.\n",
    "\n",
    "You can find overlapping ranges with another list, if not specified it will use itself and return the overllaping regions. You can `reduce` the r`GenomicRangesList` to a single `GenomicRange` instance by merging all the ranges and using the min start and max end positions.\n",
    "\n",
    "`Coverage` method is very similar to read coverage, in that it will count the number of ranges that map to each position within the bounds of the `GenomicRangesList`. This is useful for visualizing the coverage of a specific region.\n",
    "\n",
    "`GenomicRangesDict` is a dictionary of `GenomicRangesList` instances. It is used to store ranges grouped by some feature, such as genes or transcripts. You can access the ranges by their keys and perform operations on them just like you would with a regular dictionary. Again the only restriction is that the values must be a `GenomicRange` or `GenomicRangesList` instances.\n",
    "\n",
    "There is more in the specific documentation of the `ranges` submodule.\n",
    "\n",
    "**COMING SOON**: Currently there is no way to add to annotations of ranges and update the database or any way to search the annotations, like return all the protein coding transcripts etc. Those will be added very soon."
   ],
   "id": "48963ccf25fea5b9"
  }
 ],
 "metadata": {
  "kernelspec": {
   "display_name": "Python 3",
   "language": "python",
   "name": "python3"
  },
  "language_info": {
   "codemirror_mode": {
    "name": "ipython",
    "version": 2
   },
   "file_extension": ".py",
   "mimetype": "text/x-python",
   "name": "python",
   "nbconvert_exporter": "python",
   "pygments_lexer": "ipython2",
   "version": "2.7.6"
  }
 },
 "nbformat": 4,
 "nbformat_minor": 5
}
